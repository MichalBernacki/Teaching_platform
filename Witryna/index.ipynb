{
 "cells": [
  {
   "cell_type": "markdown",
   "metadata": {},
   "source": [
    "# PHP 2020 - witryna do prowadzenia zajęć"
   ]
  },
  {
   "cell_type": "markdown",
   "metadata": {},
   "source": [
    "## Projekt"
   ]
  },
  {
   "cell_type": "markdown",
   "metadata": {},
   "source": [
    "Start database:"
   ]
  },
  {
   "cell_type": "code",
   "execution_count": null,
   "metadata": {},
   "outputs": [],
   "source": []
  },
  {
   "cell_type": "code",
   "execution_count": 1,
   "metadata": {
    "scrolled": true
   },
   "outputs": [
    {
     "name": "stdout",
     "output_type": "stream",
     "text": [
      "85086ddc045d14bd808b2a70fd7b10b8cfcca070c1d1f91ed53a5a1606adde70\r\n"
     ]
    }
   ],
   "source": [
    "! docker run --name=mysql --net=host --rm --env MYSQL_ROOT_PASSWORD=root123 --env MYSQL_DATABASE=test --env MYSQL_USER=test --env MYSQL_PASSWORD=test123 -d mysql/mysql-server:8.0"
   ]
  },
  {
   "cell_type": "code",
   "execution_count": 2,
   "metadata": {},
   "outputs": [
    {
     "name": "stdout",
     "output_type": "stream",
     "text": [
      "Done.\r\n"
     ]
    }
   ],
   "source": [
    "! while ! timeout 1 bash -c \"echo > /dev/tcp/localhost/3306\" 2> /dev/null; do sleep 1; done; echo \"Done.\";"
   ]
  },
  {
   "cell_type": "markdown",
   "metadata": {},
   "source": [
    "Edit the code:"
   ]
  },
  {
   "cell_type": "code",
   "execution_count": null,
   "metadata": {
    "scrolled": false
   },
   "outputs": [
    {
     "name": "stdout",
     "output_type": "stream",
     "text": [
      "OpenJDK 64-Bit Server VM warning: Option UseConcMarkSweepGC was deprecated in version 9.0 and will likely be removed in a future release.\n",
      "2020-12-29 17:57:07,965 [   8688]   WARN - Container.ComponentManagerImpl - Do not use constructor injection (requestorClass=org.jetbrains.plugins.phpstorm.PhpStormInitialConfigurator) \n",
      "2020-12-29 17:57:24,856 [  25579]   WARN - pl.local.NativeFileWatcherImpl - Watcher terminated with exit code 3 \n",
      "2020-12-29 17:57:25,137 [  25860]   WARN - pl.local.NativeFileWatcherImpl - Watcher terminated with exit code 3 \n",
      "2020-12-29 17:57:25,409 [  26132]   WARN - pl.local.NativeFileWatcherImpl - Watcher terminated with exit code 3 \n",
      "2020-12-29 17:57:25,723 [  26446]   WARN - pl.local.NativeFileWatcherImpl - Watcher terminated with exit code 3 \n",
      "2020-12-29 17:57:25,905 [  26628]   WARN - pl.local.NativeFileWatcherImpl - Watcher terminated with exit code 3 \n",
      "2020-12-29 17:57:26,172 [  26895]   WARN - pl.local.NativeFileWatcherImpl - Watcher terminated with exit code 3 \n",
      "2020-12-29 17:57:26,363 [  27086]   WARN - pl.local.NativeFileWatcherImpl - Watcher terminated with exit code 3 \n",
      "2020-12-29 17:57:26,585 [  27308]   WARN - pl.local.NativeFileWatcherImpl - Watcher terminated with exit code 3 \n",
      "2020-12-29 17:57:26,861 [  27584]   WARN - pl.local.NativeFileWatcherImpl - Watcher terminated with exit code 3 \n",
      "2020-12-29 17:57:27,036 [  27759]   WARN - pl.local.NativeFileWatcherImpl - Watcher terminated with exit code 3 \n",
      "2020-12-29 17:57:27,036 [  27759]   WARN - api.vfs.impl.local.FileWatcher - File watcher failed to start \n",
      "2020-12-29 18:12:17,074 [ 917797]   WARN - ystem.impl.ActionPopupMenuImpl - 1518ms to fill popup menu ProjectViewPopup \n",
      "2020-12-29 18:26:13,765 [1754488]   WARN - .AbstractProgressIndicatorBase - This progress indicator is indeterminate, this may lead to visual inconsistency. Please call setIndeterminate(false) before you start progress.\n",
      "com.intellij.util.progress.ConcurrentTasksProgressManager.updateTaskFraction(ConcurrentTasksProgressManager.java:50) \n",
      "2020-12-29 18:26:23,267 [1763990]   WARN - redentialStore.CredentialStore - Failed to connect to D-Bus \n",
      "java.lang.RuntimeException: Cannot Resolve Session Bus Address\n",
      "\tat org.freedesktop.dbus.connections.impl.DBusConnection.lambda$getConnection$1(DBusConnection.java:257)\n",
      "\tat org.freedesktop.dbus.connections.impl.DBusConnection.getConnection(DBusConnection.java:165)\n",
      "\tat org.freedesktop.dbus.connections.impl.DBusConnection.getConnection(DBusConnection.java:228)\n",
      "\tat org.freedesktop.dbus.connections.impl.DBusConnection.getConnection(DBusConnection.java:184)\n",
      "\tat com.intellij.credentialStore.KWalletCredentialStore$Companion.create(linuxKWalletLibrary.kt:26)\n",
      "\tat com.intellij.credentialStore.LinuxCredentialStoreFactory.create(NativeCredentialStoreWrapper.kt:145)\n",
      "\tat com.intellij.ide.passwordSafe.impl.PasswordSafeImplKt.createPersistentCredentialStore(PasswordSafeImpl.kt:236)\n",
      "\tat com.intellij.ide.passwordSafe.impl.PasswordSafeImplKt.computeProvider(PasswordSafeImpl.kt:213)\n",
      "\tat com.intellij.ide.passwordSafe.impl.PasswordSafeImplKt.access$computeProvider(PasswordSafeImpl.kt:1)\n",
      "\tat com.intellij.ide.passwordSafe.impl.BasePasswordSafe$_currentProvider$1.invoke(PasswordSafeImpl.kt:40)\n",
      "\tat com.intellij.ide.passwordSafe.impl.BasePasswordSafe$_currentProvider$1.invoke(PasswordSafeImpl.kt:30)\n",
      "\tat com.intellij.util.concurrency.SynchronizedClearableLazy.getValue(SynchronizedClearableLazy.kt:36)\n",
      "\tat com.intellij.ide.passwordSafe.impl.BasePasswordSafe.getCurrentProvider$intellij_platform_credentialStore(PasswordSafeImpl.kt:46)\n",
      "\tat com.intellij.ide.passwordSafe.impl.BasePasswordSafe.set(PasswordSafeImpl.kt:106)\n",
      "\tat com.intellij.ide.passwordSafe.impl.BasePasswordSafe.set(PasswordSafeImpl.kt:123)\n",
      "\tat com.intellij.database.access.DbCredentialManager.setImpl(dbCredentialManager.kt:32)\n",
      "\tat com.intellij.database.access.DbCredentialManager.setPassword(dbCredentialManager.kt:22)\n",
      "\tat com.intellij.database.access.DbCredentialManager.setPassword$default(dbCredentialManager.kt:21)\n",
      "\tat com.intellij.database.access.DbCredentialManager.setPassword(dbCredentialManager.kt)\n",
      "\tat com.intellij.database.access.DatabaseCredentials.setPassword(DatabaseCredentials.java:104)\n",
      "\tat com.intellij.database.dataSource.DataSourceConfigurable.applyCredentials(DataSourceConfigurable.java:491)\n",
      "\tat com.intellij.database.dataSource.DataSourceConfigurable.apply(DataSourceConfigurable.java:436)\n",
      "\tat com.intellij.database.view.ui.SidePanelItem$DataSourceItem.apply(SidePanelItem.java:205)\n",
      "\tat com.intellij.database.view.ui.DatabaseConfigEditorImpl.applyEditorTo(DatabaseConfigEditorImpl.java:402)\n",
      "\tat com.intellij.database.view.ui.DatabaseConfigEditorImpl.applyEditorTo(DatabaseConfigEditorImpl.java:91)\n",
      "\tat com.intellij.openapi.options.SettingsEditor.applyTo(SettingsEditor.java:89)\n",
      "\tat com.intellij.openapi.options.SettingsEditorConfigurable.apply(SettingsEditorConfigurable.java:35)\n",
      "\tat com.intellij.openapi.options.ex.SingleConfigurableEditor.doOKAction(SingleConfigurableEditor.java:159)\n",
      "\tat com.intellij.database.view.ui.DataSourceManagerDialog.doOKAction(DataSourceManagerDialog.java:184)\n",
      "\tat com.intellij.openapi.ui.DialogWrapper$OkAction.doAction(DialogWrapper.java:1881)\n",
      "\tat com.intellij.openapi.ui.DialogWrapper$DialogWrapperAction.actionPerformed(DialogWrapper.java:1834)\n",
      "\tat java.desktop/javax.swing.AbstractButton.fireActionPerformed(AbstractButton.java:1967)\n",
      "\tat java.desktop/javax.swing.AbstractButton$Handler.actionPerformed(AbstractButton.java:2308)\n",
      "\tat java.desktop/javax.swing.DefaultButtonModel.fireActionPerformed(DefaultButtonModel.java:405)\n",
      "\tat java.desktop/javax.swing.DefaultButtonModel.setPressed(DefaultButtonModel.java:262)\n",
      "\tat java.desktop/javax.swing.plaf.basic.BasicButtonListener.mouseReleased(BasicButtonListener.java:270)\n",
      "\tat java.desktop/java.awt.Component.processMouseEvent(Component.java:6654)\n",
      "\tat java.desktop/javax.swing.JComponent.processMouseEvent(JComponent.java:3345)\n",
      "\tat java.desktop/java.awt.Component.processEvent(Component.java:6419)\n",
      "\tat java.desktop/java.awt.Container.processEvent(Container.java:2263)\n",
      "\tat java.desktop/java.awt.Component.dispatchEventImpl(Component.java:5029)\n",
      "\tat java.desktop/java.awt.Container.dispatchEventImpl(Container.java:2321)\n",
      "\tat java.desktop/java.awt.Component.dispatchEvent(Component.java:4861)\n",
      "\tat java.desktop/java.awt.LightweightDispatcher.retargetMouseEvent(Container.java:4918)\n",
      "\tat java.desktop/java.awt.LightweightDispatcher.processMouseEvent(Container.java:4547)\n",
      "\tat java.desktop/java.awt.LightweightDispatcher.dispatchEvent(Container.java:4488)\n",
      "\tat java.desktop/java.awt.Container.dispatchEventImpl(Container.java:2307)\n",
      "\tat java.desktop/java.awt.Window.dispatchEventImpl(Window.java:2773)\n",
      "\tat java.desktop/java.awt.Component.dispatchEvent(Component.java:4861)\n",
      "\tat java.desktop/java.awt.EventQueue.dispatchEventImpl(EventQueue.java:778)\n",
      "\tat java.desktop/java.awt.EventQueue$4.run(EventQueue.java:727)\n",
      "\tat java.desktop/java.awt.EventQueue$4.run(EventQueue.java:721)\n",
      "\tat java.base/java.security.AccessController.doPrivileged(Native Method)\n",
      "\tat java.base/java.security.ProtectionDomain$JavaSecurityAccessImpl.doIntersectionPrivilege(ProtectionDomain.java:85)\n",
      "\tat java.base/java.security.ProtectionDomain$JavaSecurityAccessImpl.doIntersectionPrivilege(ProtectionDomain.java:95)\n",
      "\tat java.desktop/java.awt.EventQueue$5.run(EventQueue.java:751)\n",
      "\tat java.desktop/java.awt.EventQueue$5.run(EventQueue.java:749)\n",
      "\tat java.base/java.security.AccessController.doPrivileged(Native Method)\n",
      "\tat java.base/java.security.ProtectionDomain$JavaSecurityAccessImpl.doIntersectionPrivilege(ProtectionDomain.java:85)\n",
      "\tat java.desktop/java.awt.EventQueue.dispatchEvent(EventQueue.java:748)\n",
      "\tat com.intellij.ide.IdeEventQueue.defaultDispatchEvent(IdeEventQueue.java:971)\n",
      "\tat com.intellij.ide.IdeEventQueue.dispatchMouseEvent(IdeEventQueue.java:906)\n",
      "\tat com.intellij.ide.IdeEventQueue._dispatchEvent(IdeEventQueue.java:838)\n",
      "\tat com.intellij.ide.IdeEventQueue.lambda$dispatchEvent$8(IdeEventQueue.java:452)\n",
      "\tat com.intellij.openapi.progress.impl.CoreProgressManager.computePrioritized(CoreProgressManager.java:733)\n",
      "\tat com.intellij.ide.IdeEventQueue.lambda$dispatchEvent$9(IdeEventQueue.java:451)\n",
      "\tat com.intellij.openapi.application.impl.ApplicationImpl.runIntendedWriteActionOnCurrentThread(ApplicationImpl.java:802)\n",
      "\tat com.intellij.ide.IdeEventQueue.dispatchEvent(IdeEventQueue.java:505)\n",
      "\tat java.desktop/java.awt.EventDispatchThread.pumpOneEventForFilters(EventDispatchThread.java:203)\n",
      "\tat java.desktop/java.awt.EventDispatchThread.pumpEventsForFilter(EventDispatchThread.java:124)\n",
      "\tat java.desktop/java.awt.EventDispatchThread.pumpEventsForFilter(EventDispatchThread.java:117)\n",
      "\tat java.desktop/java.awt.WaitDispatchSupport$2.run(WaitDispatchSupport.java:190)\n",
      "\tat java.desktop/java.awt.WaitDispatchSupport$4.run(WaitDispatchSupport.java:235)\n",
      "\tat java.desktop/java.awt.WaitDispatchSupport$4.run(WaitDispatchSupport.java:233)\n",
      "\tat java.base/java.security.AccessController.doPrivileged(Native Method)\n",
      "\tat java.desktop/java.awt.WaitDispatchSupport.enter(WaitDispatchSupport.java:233)\n",
      "\tat java.desktop/java.awt.Dialog.show(Dialog.java:1063)\n",
      "\tat com.intellij.openapi.ui.impl.DialogWrapperPeerImpl$MyDialog.show(DialogWrapperPeerImpl.java:710)\n",
      "\tat com.intellij.openapi.ui.impl.DialogWrapperPeerImpl.show(DialogWrapperPeerImpl.java:437)\n",
      "\tat com.intellij.openapi.ui.DialogWrapper.doShow(DialogWrapper.java:1700)\n",
      "\tat com.intellij.openapi.ui.DialogWrapper.show(DialogWrapper.java:1659)\n",
      "\tat com.intellij.database.view.ui.DataSourceManagerDialog.showDialog(DataSourceManagerDialog.java:87)\n",
      "\tat com.intellij.database.view.ui.DataSourceManagerDialog.showDialog(DataSourceManagerDialog.java:67)\n",
      "\tat com.intellij.database.actions.DatabaseViewActions.onDataSourceCreated(DatabaseViewActions.java:204)\n",
      "\tat com.intellij.database.actions.DatabaseViewActions.access$000(DatabaseViewActions.java:68)\n",
      "\tat com.intellij.database.actions.DatabaseViewActions$AddDataSourcesGroup.lambda$getActions$0(DatabaseViewActions.java:186)\n",
      "\tat com.intellij.database.dataSource.LocalDataSourceManager$2.actionPerformed(LocalDataSourceManager.java:136)\n",
      "\tat com.intellij.openapi.actionSystem.ex.ActionUtil.performActionDumbAware(ActionUtil.java:282)\n",
      "\tat com.intellij.openapi.actionSystem.impl.ActionMenuItem$ActionTransmitter.lambda$actionPerformed$0(ActionMenuItem.java:296)\n",
      "\tat com.intellij.openapi.wm.impl.FocusManagerImpl.runOnOwnContext(FocusManagerImpl.java:281)\n",
      "\tat com.intellij.openapi.wm.impl.IdeFocusManagerImpl.runOnOwnContext(IdeFocusManagerImpl.java:77)\n",
      "\tat com.intellij.openapi.actionSystem.impl.ActionMenuItem$ActionTransmitter.actionPerformed(ActionMenuItem.java:285)\n",
      "\tat java.desktop/javax.swing.AbstractButton.fireActionPerformed(AbstractButton.java:1967)\n",
      "\tat com.intellij.openapi.actionSystem.impl.ActionMenuItem.lambda$fireActionPerformed$0(ActionMenuItem.java:112)\n",
      "\tat com.intellij.openapi.application.TransactionGuardImpl.performUserActivity(TransactionGuardImpl.java:94)\n",
      "\tat com.intellij.openapi.actionSystem.impl.ActionMenuItem.fireActionPerformed(ActionMenuItem.java:112)\n",
      "\tat com.intellij.ui.plaf.beg.BegMenuItemUI.doClick(BegMenuItemUI.java:519)\n",
      "\tat com.intellij.ui.plaf.beg.BegMenuItemUI.access$300(BegMenuItemUI.java:36)\n",
      "\tat com.intellij.ui.plaf.beg.BegMenuItemUI$MyMouseInputHandler.mouseReleased(BegMenuItemUI.java:541)\n",
      "\tat java.desktop/java.awt.Component.processMouseEvent(Component.java:6654)\n",
      "\tat java.desktop/javax.swing.JComponent.processMouseEvent(JComponent.java:3345)\n",
      "\tat java.desktop/java.awt.Component.processEvent(Component.java:6419)\n",
      "\tat java.desktop/java.awt.Container.processEvent(Container.java:2263)\n",
      "\tat java.desktop/java.awt.Component.dispatchEventImpl(Component.java:5029)\n",
      "\tat java.desktop/java.awt.Container.dispatchEventImpl(Container.java:2321)\n",
      "\tat java.desktop/java.awt.Component.dispatchEvent(Component.java:4861)\n",
      "\tat java.desktop/java.awt.LightweightDispatcher.retargetMouseEvent(Container.java:4918)\n",
      "\tat java.desktop/java.awt.LightweightDispatcher.processMouseEvent(Container.java:4547)\n",
      "\tat java.desktop/java.awt.LightweightDispatcher.dispatchEvent(Container.java:4488)\n",
      "\tat java.desktop/java.awt.Container.dispatchEventImpl(Container.java:2307)\n",
      "\tat java.desktop/java.awt.Window.dispatchEventImpl(Window.java:2773)\n",
      "\tat java.desktop/java.awt.Component.dispatchEvent(Component.java:4861)\n",
      "\tat java.desktop/java.awt.EventQueue.dispatchEventImpl(EventQueue.java:778)\n",
      "\tat java.desktop/java.awt.EventQueue$4.run(EventQueue.java:727)\n",
      "\tat java.desktop/java.awt.EventQueue$4.run(EventQueue.java:721)\n",
      "\tat java.base/java.security.AccessController.doPrivileged(Native Method)\n",
      "\tat java.base/java.security.ProtectionDomain$JavaSecurityAccessImpl.doIntersectionPrivilege(ProtectionDomain.java:85)\n",
      "\tat java.base/java.security.ProtectionDomain$JavaSecurityAccessImpl.doIntersectionPrivilege(ProtectionDomain.java:95)\n",
      "\tat java.desktop/java.awt.EventQueue$5.run(EventQueue.java:751)\n",
      "\tat java.desktop/java.awt.EventQueue$5.run(EventQueue.java:749)\n",
      "\tat java.base/java.security.AccessController.doPrivileged(Native Method)\n",
      "\tat java.base/java.security.ProtectionDomain$JavaSecurityAccessImpl.doIntersectionPrivilege(ProtectionDomain.java:85)\n",
      "\tat java.desktop/java.awt.EventQueue.dispatchEvent(EventQueue.java:748)\n",
      "\tat com.intellij.ide.IdeEventQueue.defaultDispatchEvent(IdeEventQueue.java:971)\n",
      "\tat com.intellij.ide.IdeEventQueue.dispatchMouseEvent(IdeEventQueue.java:906)\n",
      "\tat com.intellij.ide.IdeEventQueue._dispatchEvent(IdeEventQueue.java:838)\n",
      "\tat com.intellij.ide.IdeEventQueue.lambda$dispatchEvent$8(IdeEventQueue.java:452)\n",
      "\tat com.intellij.openapi.progress.impl.CoreProgressManager.computePrioritized(CoreProgressManager.java:744)\n",
      "\tat com.intellij.ide.IdeEventQueue.lambda$dispatchEvent$9(IdeEventQueue.java:451)\n",
      "\tat com.intellij.openapi.application.impl.ApplicationImpl.runIntendedWriteActionOnCurrentThread(ApplicationImpl.java:802)\n",
      "\tat com.intellij.ide.IdeEventQueue.dispatchEvent(IdeEventQueue.java:505)\n",
      "\tat java.desktop/java.awt.EventDispatchThread.pumpOneEventForFilters(EventDispatchThread.java:203)\n",
      "\tat java.desktop/java.awt.EventDispatchThread.pumpEventsForFilter(EventDispatchThread.java:124)\n",
      "\tat java.desktop/java.awt.EventDispatchThread.pumpEventsForHierarchy(EventDispatchThread.java:113)\n",
      "\tat java.desktop/java.awt.EventDispatchThread.pumpEvents(EventDispatchThread.java:109)\n",
      "\tat java.desktop/java.awt.EventDispatchThread.pumpEvents(EventDispatchThread.java:101)\n",
      "\tat java.desktop/java.awt.EventDispatchThread.run(EventDispatchThread.java:90)\n"
     ]
    },
    {
     "name": "stdout",
     "output_type": "stream",
     "text": [
      "2020-12-29 18:26:23,274 [1763997]  ERROR - redentialStore.CredentialStore - Unable to load library 'secret-1':\r\n",
      "libsecret-1.so: cannot open shared object file: No such file or directory\r\n",
      "libsecret-1.so: cannot open shared object file: No such file or directory\r\n",
      "Native library (linux-x86-64/libsecret-1.so) not found in resource path (/opt/PhpStorm-202.6948.87/lib/bootstrap.jar:/opt/PhpStorm-202.6948.87/lib/extensions.jar:/opt/PhpStorm-202.6948.87/lib/util.jar:/opt/PhpStorm-202.6948.87/lib/jdom.jar:/opt/PhpStorm-202.6948.87/lib/log4j.jar:/opt/PhpStorm-202.6948.87/lib/trove4j.jar:/opt/PhpStorm-202.6948.87/lib/jna.jar) \r\n",
      "java.lang.UnsatisfiedLinkError: Unable to load library 'secret-1':\r\n",
      "libsecret-1.so: cannot open shared object file: No such file or directory\r\n",
      "libsecret-1.so: cannot open shared object file: No such file or directory\r\n",
      "Native library (linux-x86-64/libsecret-1.so) not found in resource path (/opt/PhpStorm-202.6948.87/lib/bootstrap.jar:/opt/PhpStorm-202.6948.87/lib/extensions.jar:/opt/PhpStorm-202.6948.87/lib/util.jar:/opt/PhpStorm-202.6948.87/lib/jdom.jar:/opt/PhpStorm-202.6948.87/lib/log4j.jar:/opt/PhpStorm-202.6948.87/lib/trove4j.jar:/opt/PhpStorm-202.6948.87/lib/jna.jar)\r\n",
      "\tat com.sun.jna.NativeLibrary.loadLibrary(NativeLibrary.java:301)\r\n",
      "\tat com.sun.jna.NativeLibrary.getInstance(NativeLibrary.java:461)\r\n",
      "\tat com.sun.jna.Library$Handler.<init>(Library.java:192)\r\n",
      "\tat com.sun.jna.Native.load(Native.java:596)\r\n",
      "\tat com.sun.jna.Native.load(Native.java:570)\r\n",
      "\tat com.intellij.credentialStore.SecretCredentialStore.<clinit>(linuxSecretLibrary.kt:42)\r\n",
      "\tat com.intellij.credentialStore.LinuxCredentialStoreFactory.create(NativeCredentialStoreWrapper.kt:142)\r\n",
      "\tat com.intellij.ide.passwordSafe.impl.PasswordSafeImplKt.createPersistentCredentialStore(PasswordSafeImpl.kt:236)\r\n",
      "\tat com.intellij.ide.passwordSafe.impl.PasswordSafeImplKt.computeProvider(PasswordSafeImpl.kt:213)\r\n",
      "\tat com.intellij.ide.passwordSafe.impl.PasswordSafeImplKt.access$computeProvider(PasswordSafeImpl.kt:1)\r\n",
      "\tat com.intellij.ide.passwordSafe.impl.BasePasswordSafe$_currentProvider$1.invoke(PasswordSafeImpl.kt:40)\r\n",
      "\tat com.intellij.ide.passwordSafe.impl.BasePasswordSafe$_currentProvider$1.invoke(PasswordSafeImpl.kt:30)\r\n",
      "\tat com.intellij.util.concurrency.SynchronizedClearableLazy.getValue(SynchronizedClearableLazy.kt:36)\r\n",
      "\tat com.intellij.ide.passwordSafe.impl.BasePasswordSafe.getCurrentProvider$intellij_platform_credentialStore(PasswordSafeImpl.kt:46)\r\n",
      "\tat com.intellij.ide.passwordSafe.impl.BasePasswordSafe.set(PasswordSafeImpl.kt:106)\r\n",
      "\tat com.intellij.ide.passwordSafe.impl.BasePasswordSafe.set(PasswordSafeImpl.kt:123)\r\n",
      "\tat com.intellij.database.access.DbCredentialManager.setImpl(dbCredentialManager.kt:32)\r\n",
      "\tat com.intellij.database.access.DbCredentialManager.setPassword(dbCredentialManager.kt:22)\r\n",
      "\tat com.intellij.database.access.DbCredentialManager.setPassword$default(dbCredentialManager.kt:21)\r\n",
      "\tat com.intellij.database.access.DbCredentialManager.setPassword(dbCredentialManager.kt)\r\n",
      "\tat com.intellij.database.access.DatabaseCredentials.setPassword(DatabaseCredentials.java:104)\r\n",
      "\tat com.intellij.database.dataSource.DataSourceConfigurable.applyCredentials(DataSourceConfigurable.java:491)\r\n",
      "\tat com.intellij.database.dataSource.DataSourceConfigurable.apply(DataSourceConfigurable.java:436)\r\n",
      "\tat com.intellij.database.view.ui.SidePanelItem$DataSourceItem.apply(SidePanelItem.java:205)\r\n",
      "\tat com.intellij.database.view.ui.DatabaseConfigEditorImpl.applyEditorTo(DatabaseConfigEditorImpl.java:402)\r\n",
      "\tat com.intellij.database.view.ui.DatabaseConfigEditorImpl.applyEditorTo(DatabaseConfigEditorImpl.java:91)\r\n",
      "\tat com.intellij.openapi.options.SettingsEditor.applyTo(SettingsEditor.java:89)\r\n",
      "\tat com.intellij.openapi.options.SettingsEditorConfigurable.apply(SettingsEditorConfigurable.java:35)\r\n",
      "\tat com.intellij.openapi.options.ex.SingleConfigurableEditor.doOKAction(SingleConfigurableEditor.java:159)\r\n",
      "\tat com.intellij.database.view.ui.DataSourceManagerDialog.doOKAction(DataSourceManagerDialog.java:184)\r\n",
      "\tat com.intellij.openapi.ui.DialogWrapper$OkAction.doAction(DialogWrapper.java:1881)\r\n",
      "\tat com.intellij.openapi.ui.DialogWrapper$DialogWrapperAction.actionPerformed(DialogWrapper.java:1834)\r\n",
      "\tat java.desktop/javax.swing.AbstractButton.fireActionPerformed(AbstractButton.java:1967)\r\n",
      "\tat java.desktop/javax.swing.AbstractButton$Handler.actionPerformed(AbstractButton.java:2308)\r\n",
      "\tat java.desktop/javax.swing.DefaultButtonModel.fireActionPerformed(DefaultButtonModel.java:405)\r\n",
      "\tat java.desktop/javax.swing.DefaultButtonModel.setPressed(DefaultButtonModel.java:262)\r\n",
      "\tat java.desktop/javax.swing.plaf.basic.BasicButtonListener.mouseReleased(BasicButtonListener.java:270)\r\n",
      "\tat java.desktop/java.awt.Component.processMouseEvent(Component.java:6654)\r\n",
      "\tat java.desktop/javax.swing.JComponent.processMouseEvent(JComponent.java:3345)\r\n",
      "\tat java.desktop/java.awt.Component.processEvent(Component.java:6419)\r\n",
      "\tat java.desktop/java.awt.Container.processEvent(Container.java:2263)\r\n",
      "\tat java.desktop/java.awt.Component.dispatchEventImpl(Component.java:5029)\r\n",
      "\tat java.desktop/java.awt.Container.dispatchEventImpl(Container.java:2321)\r\n",
      "\tat java.desktop/java.awt.Component.dispatchEvent(Component.java:4861)\r\n",
      "\tat java.desktop/java.awt.LightweightDispatcher.retargetMouseEvent(Container.java:4918)\r\n",
      "\tat java.desktop/java.awt.LightweightDispatcher.processMouseEvent(Container.java:4547)\r\n",
      "\tat java.desktop/java.awt.LightweightDispatcher.dispatchEvent(Container.java:4488)\r\n",
      "\tat java.desktop/java.awt.Container.dispatchEventImpl(Container.java:2307)\r\n",
      "\tat java.desktop/java.awt.Window.dispatchEventImpl(Window.java:2773)\r\n",
      "\tat java.desktop/java.awt.Component.dispatchEvent(Component.java:4861)\r\n",
      "\tat java.desktop/java.awt.EventQueue.dispatchEventImpl(EventQueue.java:778)\r\n",
      "\tat java.desktop/java.awt.EventQueue$4.run(EventQueue.java:727)\r\n",
      "\tat java.desktop/java.awt.EventQueue$4.run(EventQueue.java:721)\r\n",
      "\tat java.base/java.security.AccessController.doPrivileged(Native Method)\r\n",
      "\tat java.base/java.security.ProtectionDomain$JavaSecurityAccessImpl.doIntersectionPrivilege(ProtectionDomain.java:85)\r\n",
      "\tat java.base/java.security.ProtectionDomain$JavaSecurityAccessImpl.doIntersectionPrivilege(ProtectionDomain.java:95)\r\n",
      "\tat java.desktop/java.awt.EventQueue$5.run(EventQueue.java:751)\r\n",
      "\tat java.desktop/java.awt.EventQueue$5.run(EventQueue.java:749)\r\n",
      "\tat java.base/java.security.AccessController.doPrivileged(Native Method)\r\n",
      "\tat java.base/java.security.ProtectionDomain$JavaSecurityAccessImpl.doIntersectionPrivilege(ProtectionDomain.java:85)\r\n",
      "\tat java.desktop/java.awt.EventQueue.dispatchEvent(EventQueue.java:748)\r\n",
      "\tat com.intellij.ide.IdeEventQueue.defaultDispatchEvent(IdeEventQueue.java:971)\r\n",
      "\tat com.intellij.ide.IdeEventQueue.dispatchMouseEvent(IdeEventQueue.java:906)\r\n",
      "\tat com.intellij.ide.IdeEventQueue._dispatchEvent(IdeEventQueue.java:838)\r\n",
      "\tat com.intellij.ide.IdeEventQueue.lambda$dispatchEvent$8(IdeEventQueue.java:452)\r\n",
      "\tat com.intellij.openapi.progress.impl.CoreProgressManager.computePrioritized(CoreProgressManager.java:733)\r\n",
      "\tat com.intellij.ide.IdeEventQueue.lambda$dispatchEvent$9(IdeEventQueue.java:451)\r\n",
      "\tat com.intellij.openapi.application.impl.ApplicationImpl.runIntendedWriteActionOnCurrentThread(ApplicationImpl.java:802)\r\n",
      "\tat com.intellij.ide.IdeEventQueue.dispatchEvent(IdeEventQueue.java:505)\r\n",
      "\tat java.desktop/java.awt.EventDispatchThread.pumpOneEventForFilters(EventDispatchThread.java:203)\r\n",
      "\tat java.desktop/java.awt.EventDispatchThread.pumpEventsForFilter(EventDispatchThread.java:124)\r\n",
      "\tat java.desktop/java.awt.EventDispatchThread.pumpEventsForFilter(EventDispatchThread.java:117)\r\n",
      "\tat java.desktop/java.awt.WaitDispatchSupport$2.run(WaitDispatchSupport.java:190)\r\n",
      "\tat java.desktop/java.awt.WaitDispatchSupport$4.run(WaitDispatchSupport.java:235)\r\n",
      "\tat java.desktop/java.awt.WaitDispatchSupport$4.run(WaitDispatchSupport.java:233)\r\n",
      "\tat java.base/java.security.AccessController.doPrivileged(Native Method)\r\n",
      "\tat java.desktop/java.awt.WaitDispatchSupport.enter(WaitDispatchSupport.java:233)\r\n",
      "\tat java.desktop/java.awt.Dialog.show(Dialog.java:1063)\r\n",
      "\tat com.intellij.openapi.ui.impl.DialogWrapperPeerImpl$MyDialog.show(DialogWrapperPeerImpl.java:710)\r\n",
      "\tat com.intellij.openapi.ui.impl.DialogWrapperPeerImpl.show(DialogWrapperPeerImpl.java:437)\r\n",
      "\tat com.intellij.openapi.ui.DialogWrapper.doShow(DialogWrapper.java:1700)\r\n",
      "\tat com.intellij.openapi.ui.DialogWrapper.show(DialogWrapper.java:1659)\r\n",
      "\tat com.intellij.database.view.ui.DataSourceManagerDialog.showDialog(DataSourceManagerDialog.java:87)\r\n",
      "\tat com.intellij.database.view.ui.DataSourceManagerDialog.showDialog(DataSourceManagerDialog.java:67)\r\n",
      "\tat com.intellij.database.actions.DatabaseViewActions.onDataSourceCreated(DatabaseViewActions.java:204)\r\n",
      "\tat com.intellij.database.actions.DatabaseViewActions.access$000(DatabaseViewActions.java:68)\r\n",
      "\tat com.intellij.database.actions.DatabaseViewActions$AddDataSourcesGroup.lambda$getActions$0(DatabaseViewActions.java:186)\r\n",
      "\tat com.intellij.database.dataSource.LocalDataSourceManager$2.actionPerformed(LocalDataSourceManager.java:136)\r\n",
      "\tat com.intellij.openapi.actionSystem.ex.ActionUtil.performActionDumbAware(ActionUtil.java:282)\r\n",
      "\tat com.intellij.openapi.actionSystem.impl.ActionMenuItem$ActionTransmitter.lambda$actionPerformed$0(ActionMenuItem.java:296)\r\n",
      "\tat com.intellij.openapi.wm.impl.FocusManagerImpl.runOnOwnContext(FocusManagerImpl.java:281)\r\n",
      "\tat com.intellij.openapi.wm.impl.IdeFocusManagerImpl.runOnOwnContext(IdeFocusManagerImpl.java:77)\r\n",
      "\tat com.intellij.openapi.actionSystem.impl.ActionMenuItem$ActionTransmitter.actionPerformed(ActionMenuItem.java:285)\r\n",
      "\tat java.desktop/javax.swing.AbstractButton.fireActionPerformed(AbstractButton.java:1967)\r\n",
      "\tat com.intellij.openapi.actionSystem.impl.ActionMenuItem.lambda$fireActionPerformed$0(ActionMenuItem.java:112)\r\n",
      "\tat com.intellij.openapi.application.TransactionGuardImpl.performUserActivity(TransactionGuardImpl.java:94)\r\n",
      "\tat com.intellij.openapi.actionSystem.impl.ActionMenuItem.fireActionPerformed(ActionMenuItem.java:112)\r\n",
      "\tat com.intellij.ui.plaf.beg.BegMenuItemUI.doClick(BegMenuItemUI.java:519)\r\n",
      "\tat com.intellij.ui.plaf.beg.BegMenuItemUI.access$300(BegMenuItemUI.java:36)\r\n",
      "\tat com.intellij.ui.plaf.beg.BegMenuItemUI$MyMouseInputHandler.mouseReleased(BegMenuItemUI.java:541)\r\n",
      "\tat java.desktop/java.awt.Component.processMouseEvent(Component.java:6654)\r\n",
      "\tat java.desktop/javax.swing.JComponent.processMouseEvent(JComponent.java:3345)\r\n",
      "\tat java.desktop/java.awt.Component.processEvent(Component.java:6419)\r\n",
      "\tat java.desktop/java.awt.Container.processEvent(Container.java:2263)\r\n",
      "\tat java.desktop/java.awt.Component.dispatchEventImpl(Component.java:5029)\r\n",
      "\tat java.desktop/java.awt.Container.dispatchEventImpl(Container.java:2321)\r\n",
      "\tat java.desktop/java.awt.Component.dispatchEvent(Component.java:4861)\r\n",
      "\tat java.desktop/java.awt.LightweightDispatcher.retargetMouseEvent(Container.java:4918)\r\n",
      "\tat java.desktop/java.awt.LightweightDispatcher.processMouseEvent(Container.java:4547)\r\n",
      "\tat java.desktop/java.awt.LightweightDispatcher.dispatchEvent(Container.java:4488)\r\n",
      "\tat java.desktop/java.awt.Container.dispatchEventImpl(Container.java:2307)\r\n",
      "\tat java.desktop/java.awt.Window.dispatchEventImpl(Window.java:2773)\r\n",
      "\tat java.desktop/java.awt.Component.dispatchEvent(Component.java:4861)\r\n",
      "\tat java.desktop/java.awt.EventQueue.dispatchEventImpl(EventQueue.java:778)\r\n",
      "\tat java.desktop/java.awt.EventQueue$4.run(EventQueue.java:727)\r\n",
      "\tat java.desktop/java.awt.EventQueue$4.run(EventQueue.java:721)\r\n",
      "\tat java.base/java.security.AccessController.doPrivileged(Native Method)\r\n",
      "\tat java.base/java.security.ProtectionDomain$JavaSecurityAccessImpl.doIntersectionPrivilege(ProtectionDomain.java:85)\r\n",
      "\tat java.base/java.security.ProtectionDomain$JavaSecurityAccessImpl.doIntersectionPrivilege(ProtectionDomain.java:95)\r\n",
      "\tat java.desktop/java.awt.EventQueue$5.run(EventQueue.java:751)\r\n",
      "\tat java.desktop/java.awt.EventQueue$5.run(EventQueue.java:749)\r\n",
      "\tat java.base/java.security.AccessController.doPrivileged(Native Method)\r\n",
      "\tat java.base/java.security.ProtectionDomain$JavaSecurityAccessImpl.doIntersectionPrivilege(ProtectionDomain.java:85)\r\n",
      "\tat java.desktop/java.awt.EventQueue.dispatchEvent(EventQueue.java:748)\r\n",
      "\tat com.intellij.ide.IdeEventQueue.defaultDispatchEvent(IdeEventQueue.java:971)\r\n",
      "\tat com.intellij.ide.IdeEventQueue.dispatchMouseEvent(IdeEventQueue.java:906)\r\n",
      "\tat com.intellij.ide.IdeEventQueue._dispatchEvent(IdeEventQueue.java:838)\r\n",
      "\tat com.intellij.ide.IdeEventQueue.lambda$dispatchEvent$8(IdeEventQueue.java:452)\r\n",
      "\tat com.intellij.openapi.progress.impl.CoreProgressManager.computePrioritized(CoreProgressManager.java:744)\r\n",
      "\tat com.intellij.ide.IdeEventQueue.lambda$dispatchEvent$9(IdeEventQueue.java:451)\r\n",
      "\tat com.intellij.openapi.application.impl.ApplicationImpl.runIntendedWriteActionOnCurrentThread(ApplicationImpl.java:802)\r\n",
      "\tat com.intellij.ide.IdeEventQueue.dispatchEvent(IdeEventQueue.java:505)\r\n",
      "\tat java.desktop/java.awt.EventDispatchThread.pumpOneEventForFilters(EventDispatchThread.java:203)\r\n",
      "\tat java.desktop/java.awt.EventDispatchThread.pumpEventsForFilter(EventDispatchThread.java:124)\r\n",
      "\tat java.desktop/java.awt.EventDispatchThread.pumpEventsForHierarchy(EventDispatchThread.java:113)\r\n",
      "\tat java.desktop/java.awt.EventDispatchThread.pumpEvents(EventDispatchThread.java:109)\r\n",
      "\tat java.desktop/java.awt.EventDispatchThread.pumpEvents(EventDispatchThread.java:101)\r\n",
      "\tat java.desktop/java.awt.EventDispatchThread.run(EventDispatchThread.java:90)\r\n",
      "\tSuppressed: java.lang.UnsatisfiedLinkError: libsecret-1.so: cannot open shared object file: No such file or directory\r\n",
      "\t\tat com.sun.jna.Native.open(Native Method)\r\n",
      "\t\tat com.sun.jna.NativeLibrary.loadLibrary(NativeLibrary.java:191)\r\n",
      "\t\t... 137 more\r\n",
      "\tSuppressed: java.lang.UnsatisfiedLinkError: libsecret-1.so: cannot open shared object file: No such file or directory\r\n",
      "\t\tat com.sun.jna.Native.open(Native Method)\r\n",
      "\t\tat com.sun.jna.NativeLibrary.loadLibrary(NativeLibrary.java:204)\r\n",
      "\t\t... 137 more\r\n",
      "\tSuppressed: java.io.IOException: Native library (linux-x86-64/libsecret-1.so) not found in resource path (/opt/PhpStorm-202.6948.87/lib/bootstrap.jar:/opt/PhpStorm-202.6948.87/lib/extensions.jar:/opt/PhpStorm-202.6948.87/lib/util.jar:/opt/PhpStorm-202.6948.87/lib/jdom.jar:/opt/PhpStorm-202.6948.87/lib/log4j.jar:/opt/PhpStorm-202.6948.87/lib/trove4j.jar:/opt/PhpStorm-202.6948.87/lib/jna.jar)\r\n",
      "\t\tat com.sun.jna.Native.extractFromResourcePath(Native.java:1095)\r\n",
      "\t\tat com.sun.jna.NativeLibrary.loadLibrary(NativeLibrary.java:275)\r\n",
      "\t\t... 137 more\r\n",
      "2020-12-29 18:26:23,281 [1764004]  ERROR - redentialStore.CredentialStore - PhpStorm 2020.2.1  Build #PS-202.6948.87 \r\n",
      "2020-12-29 18:26:23,282 [1764005]  ERROR - redentialStore.CredentialStore - JDK: 11.0.8; VM: OpenJDK 64-Bit Server VM; Vendor: JetBrains s.r.o. \r\n",
      "2020-12-29 18:26:23,282 [1764005]  ERROR - redentialStore.CredentialStore - OS: Linux \r\n",
      "2020-12-29 18:26:23,293 [1764016]   WARN - redentialStore.CredentialStore - Failed to connect to D-Bus \r\n",
      "java.lang.RuntimeException: Cannot Resolve Session Bus Address\r\n",
      "\tat org.freedesktop.dbus.connections.impl.DBusConnection.lambda$getConnection$1(DBusConnection.java:257)\r\n",
      "\tat org.freedesktop.dbus.connections.impl.DBusConnection.getConnection(DBusConnection.java:165)\r\n",
      "\tat org.freedesktop.dbus.connections.impl.DBusConnection.getConnection(DBusConnection.java:228)\r\n",
      "\tat org.freedesktop.dbus.connections.impl.DBusConnection.getConnection(DBusConnection.java:184)\r\n",
      "\tat com.intellij.credentialStore.KWalletCredentialStore$Companion.create(linuxKWalletLibrary.kt:26)\r\n",
      "\tat com.intellij.credentialStore.LinuxCredentialStoreFactory.create(NativeCredentialStoreWrapper.kt:149)\r\n",
      "\tat com.intellij.ide.passwordSafe.impl.PasswordSafeImplKt.createPersistentCredentialStore(PasswordSafeImpl.kt:236)\r\n",
      "\tat com.intellij.ide.passwordSafe.impl.PasswordSafeImplKt.computeProvider(PasswordSafeImpl.kt:213)\r\n",
      "\tat com.intellij.ide.passwordSafe.impl.PasswordSafeImplKt.access$computeProvider(PasswordSafeImpl.kt:1)\r\n",
      "\tat com.intellij.ide.passwordSafe.impl.BasePasswordSafe$_currentProvider$1.invoke(PasswordSafeImpl.kt:40)\r\n",
      "\tat com.intellij.ide.passwordSafe.impl.BasePasswordSafe$_currentProvider$1.invoke(PasswordSafeImpl.kt:30)\r\n",
      "\tat com.intellij.util.concurrency.SynchronizedClearableLazy.getValue(SynchronizedClearableLazy.kt:36)\r\n",
      "\tat com.intellij.ide.passwordSafe.impl.BasePasswordSafe.getCurrentProvider$intellij_platform_credentialStore(PasswordSafeImpl.kt:46)\r\n",
      "\tat com.intellij.ide.passwordSafe.impl.BasePasswordSafe.set(PasswordSafeImpl.kt:106)\r\n",
      "\tat com.intellij.ide.passwordSafe.impl.BasePasswordSafe.set(PasswordSafeImpl.kt:123)\r\n",
      "\tat com.intellij.database.access.DbCredentialManager.setImpl(dbCredentialManager.kt:32)\r\n",
      "\tat com.intellij.database.access.DbCredentialManager.setPassword(dbCredentialManager.kt:22)\r\n",
      "\tat com.intellij.database.access.DbCredentialManager.setPassword$default(dbCredentialManager.kt:21)\r\n",
      "\tat com.intellij.database.access.DbCredentialManager.setPassword(dbCredentialManager.kt)\r\n",
      "\tat com.intellij.database.access.DatabaseCredentials.setPassword(DatabaseCredentials.java:104)\r\n",
      "\tat com.intellij.database.dataSource.DataSourceConfigurable.applyCredentials(DataSourceConfigurable.java:491)\r\n",
      "\tat com.intellij.database.dataSource.DataSourceConfigurable.apply(DataSourceConfigurable.java:436)\r\n",
      "\tat com.intellij.database.view.ui.SidePanelItem$DataSourceItem.apply(SidePanelItem.java:205)\r\n",
      "\tat com.intellij.database.view.ui.DatabaseConfigEditorImpl.applyEditorTo(DatabaseConfigEditorImpl.java:402)\r\n",
      "\tat com.intellij.database.view.ui.DatabaseConfigEditorImpl.applyEditorTo(DatabaseConfigEditorImpl.java:91)\r\n",
      "\tat com.intellij.openapi.options.SettingsEditor.applyTo(SettingsEditor.java:89)\r\n",
      "\tat com.intellij.openapi.options.SettingsEditorConfigurable.apply(SettingsEditorConfigurable.java:35)\r\n",
      "\tat com.intellij.openapi.options.ex.SingleConfigurableEditor.doOKAction(SingleConfigurableEditor.java:159)\r\n",
      "\tat com.intellij.database.view.ui.DataSourceManagerDialog.doOKAction(DataSourceManagerDialog.java:184)\r\n",
      "\tat com.intellij.openapi.ui.DialogWrapper$OkAction.doAction(DialogWrapper.java:1881)\r\n",
      "\tat com.intellij.openapi.ui.DialogWrapper$DialogWrapperAction.actionPerformed(DialogWrapper.java:1834)\r\n",
      "\tat java.desktop/javax.swing.AbstractButton.fireActionPerformed(AbstractButton.java:1967)\r\n",
      "\tat java.desktop/javax.swing.AbstractButton$Handler.actionPerformed(AbstractButton.java:2308)\r\n",
      "\tat java.desktop/javax.swing.DefaultButtonModel.fireActionPerformed(DefaultButtonModel.java:405)\r\n",
      "\tat java.desktop/javax.swing.DefaultButtonModel.setPressed(DefaultButtonModel.java:262)\r\n",
      "\tat java.desktop/javax.swing.plaf.basic.BasicButtonListener.mouseReleased(BasicButtonListener.java:270)\r\n",
      "\tat java.desktop/java.awt.Component.processMouseEvent(Component.java:6654)\r\n",
      "\tat java.desktop/javax.swing.JComponent.processMouseEvent(JComponent.java:3345)\r\n",
      "\tat java.desktop/java.awt.Component.processEvent(Component.java:6419)\r\n",
      "\tat java.desktop/java.awt.Container.processEvent(Container.java:2263)\r\n",
      "\tat java.desktop/java.awt.Component.dispatchEventImpl(Component.java:5029)\r\n",
      "\tat java.desktop/java.awt.Container.dispatchEventImpl(Container.java:2321)\r\n",
      "\tat java.desktop/java.awt.Component.dispatchEvent(Component.java:4861)\r\n",
      "\tat java.desktop/java.awt.LightweightDispatcher.retargetMouseEvent(Container.java:4918)\r\n",
      "\tat java.desktop/java.awt.LightweightDispatcher.processMouseEvent(Container.java:4547)\r\n",
      "\tat java.desktop/java.awt.LightweightDispatcher.dispatchEvent(Container.java:4488)\r\n",
      "\tat java.desktop/java.awt.Container.dispatchEventImpl(Container.java:2307)\r\n",
      "\tat java.desktop/java.awt.Window.dispatchEventImpl(Window.java:2773)\r\n",
      "\tat java.desktop/java.awt.Component.dispatchEvent(Component.java:4861)\r\n",
      "\tat java.desktop/java.awt.EventQueue.dispatchEventImpl(EventQueue.java:778)\r\n",
      "\tat java.desktop/java.awt.EventQueue$4.run(EventQueue.java:727)\r\n",
      "\tat java.desktop/java.awt.EventQueue$4.run(EventQueue.java:721)\r\n",
      "\tat java.base/java.security.AccessController.doPrivileged(Native Method)\r\n",
      "\tat java.base/java.security.ProtectionDomain$JavaSecurityAccessImpl.doIntersectionPrivilege(ProtectionDomain.java:85)\r\n",
      "\tat java.base/java.security.ProtectionDomain$JavaSecurityAccessImpl.doIntersectionPrivilege(ProtectionDomain.java:95)\r\n",
      "\tat java.desktop/java.awt.EventQueue$5.run(EventQueue.java:751)\r\n",
      "\tat java.desktop/java.awt.EventQueue$5.run(EventQueue.java:749)\r\n",
      "\tat java.base/java.security.AccessController.doPrivileged(Native Method)\r\n",
      "\tat java.base/java.security.ProtectionDomain$JavaSecurityAccessImpl.doIntersectionPrivilege(ProtectionDomain.java:85)\r\n",
      "\tat java.desktop/java.awt.EventQueue.dispatchEvent(EventQueue.java:748)\r\n",
      "\tat com.intellij.ide.IdeEventQueue.defaultDispatchEvent(IdeEventQueue.java:971)\r\n",
      "\tat com.intellij.ide.IdeEventQueue.dispatchMouseEvent(IdeEventQueue.java:906)\r\n",
      "\tat com.intellij.ide.IdeEventQueue._dispatchEvent(IdeEventQueue.java:838)\r\n",
      "\tat com.intellij.ide.IdeEventQueue.lambda$dispatchEvent$8(IdeEventQueue.java:452)\r\n",
      "\tat com.intellij.openapi.progress.impl.CoreProgressManager.computePrioritized(CoreProgressManager.java:733)\r\n",
      "\tat com.intellij.ide.IdeEventQueue.lambda$dispatchEvent$9(IdeEventQueue.java:451)\r\n",
      "\tat com.intellij.openapi.application.impl.ApplicationImpl.runIntendedWriteActionOnCurrentThread(ApplicationImpl.java:802)\r\n",
      "\tat com.intellij.ide.IdeEventQueue.dispatchEvent(IdeEventQueue.java:505)\r\n",
      "\tat java.desktop/java.awt.EventDispatchThread.pumpOneEventForFilters(EventDispatchThread.java:203)\r\n",
      "\tat java.desktop/java.awt.EventDispatchThread.pumpEventsForFilter(EventDispatchThread.java:124)\r\n",
      "\tat java.desktop/java.awt.EventDispatchThread.pumpEventsForFilter(EventDispatchThread.java:117)\r\n",
      "\tat java.desktop/java.awt.WaitDispatchSupport$2.run(WaitDispatchSupport.java:190)\r\n",
      "\tat java.desktop/java.awt.WaitDispatchSupport$4.run(WaitDispatchSupport.java:235)\r\n",
      "\tat java.desktop/java.awt.WaitDispatchSupport$4.run(WaitDispatchSupport.java:233)\r\n",
      "\tat java.base/java.security.AccessController.doPrivileged(Native Method)\r\n",
      "\tat java.desktop/java.awt.WaitDispatchSupport.enter(WaitDispatchSupport.java:233)\r\n",
      "\tat java.desktop/java.awt.Dialog.show(Dialog.java:1063)\r\n",
      "\tat com.intellij.openapi.ui.impl.DialogWrapperPeerImpl$MyDialog.show(DialogWrapperPeerImpl.java:710)\r\n",
      "\tat com.intellij.openapi.ui.impl.DialogWrapperPeerImpl.show(DialogWrapperPeerImpl.java:437)\r\n",
      "\tat com.intellij.openapi.ui.DialogWrapper.doShow(DialogWrapper.java:1700)\r\n",
      "\tat com.intellij.openapi.ui.DialogWrapper.show(DialogWrapper.java:1659)\r\n",
      "\tat com.intellij.database.view.ui.DataSourceManagerDialog.showDialog(DataSourceManagerDialog.java:87)\r\n",
      "\tat com.intellij.database.view.ui.DataSourceManagerDialog.showDialog(DataSourceManagerDialog.java:67)\r\n",
      "\tat com.intellij.database.actions.DatabaseViewActions.onDataSourceCreated(DatabaseViewActions.java:204)\r\n",
      "\tat com.intellij.database.actions.DatabaseViewActions.access$000(DatabaseViewActions.java:68)\r\n",
      "\tat com.intellij.database.actions.DatabaseViewActions$AddDataSourcesGroup.lambda$getActions$0(DatabaseViewActions.java:186)\r\n",
      "\tat com.intellij.database.dataSource.LocalDataSourceManager$2.actionPerformed(LocalDataSourceManager.java:136)\r\n",
      "\tat com.intellij.openapi.actionSystem.ex.ActionUtil.performActionDumbAware(ActionUtil.java:282)\r\n",
      "\tat com.intellij.openapi.actionSystem.impl.ActionMenuItem$ActionTransmitter.lambda$actionPerformed$0(ActionMenuItem.java:296)\r\n",
      "\tat com.intellij.openapi.wm.impl.FocusManagerImpl.runOnOwnContext(FocusManagerImpl.java:281)\r\n",
      "\tat com.intellij.openapi.wm.impl.IdeFocusManagerImpl.runOnOwnContext(IdeFocusManagerImpl.java:77)\r\n",
      "\tat com.intellij.openapi.actionSystem.impl.ActionMenuItem$ActionTransmitter.actionPerformed(ActionMenuItem.java:285)\r\n",
      "\tat java.desktop/javax.swing.AbstractButton.fireActionPerformed(AbstractButton.java:1967)\r\n",
      "\tat com.intellij.openapi.actionSystem.impl.ActionMenuItem.lambda$fireActionPerformed$0(ActionMenuItem.java:112)\r\n",
      "\tat com.intellij.openapi.application.TransactionGuardImpl.performUserActivity(TransactionGuardImpl.java:94)\r\n",
      "\tat com.intellij.openapi.actionSystem.impl.ActionMenuItem.fireActionPerformed(ActionMenuItem.java:112)\r\n",
      "\tat com.intellij.ui.plaf.beg.BegMenuItemUI.doClick(BegMenuItemUI.java:519)\r\n",
      "\tat com.intellij.ui.plaf.beg.BegMenuItemUI.access$300(BegMenuItemUI.java:36)\r\n",
      "\tat com.intellij.ui.plaf.beg.BegMenuItemUI$MyMouseInputHandler.mouseReleased(BegMenuItemUI.java:541)\r\n",
      "\tat java.desktop/java.awt.Component.processMouseEvent(Component.java:6654)\r\n",
      "\tat java.desktop/javax.swing.JComponent.processMouseEvent(JComponent.java:3345)\r\n",
      "\tat java.desktop/java.awt.Component.processEvent(Component.java:6419)\r\n",
      "\tat java.desktop/java.awt.Container.processEvent(Container.java:2263)\r\n",
      "\tat java.desktop/java.awt.Component.dispatchEventImpl(Component.java:5029)\r\n",
      "\tat java.desktop/java.awt.Container.dispatchEventImpl(Container.java:2321)\r\n",
      "\tat java.desktop/java.awt.Component.dispatchEvent(Component.java:4861)\r\n",
      "\tat java.desktop/java.awt.LightweightDispatcher.retargetMouseEvent(Container.java:4918)\r\n",
      "\tat java.desktop/java.awt.LightweightDispatcher.processMouseEvent(Container.java:4547)\r\n",
      "\tat java.desktop/java.awt.LightweightDispatcher.dispatchEvent(Container.java:4488)\r\n",
      "\tat java.desktop/java.awt.Container.dispatchEventImpl(Container.java:2307)\r\n",
      "\tat java.desktop/java.awt.Window.dispatchEventImpl(Window.java:2773)\r\n",
      "\tat java.desktop/java.awt.Component.dispatchEvent(Component.java:4861)\r\n",
      "\tat java.desktop/java.awt.EventQueue.dispatchEventImpl(EventQueue.java:778)\r\n",
      "\tat java.desktop/java.awt.EventQueue$4.run(EventQueue.java:727)\r\n",
      "\tat java.desktop/java.awt.EventQueue$4.run(EventQueue.java:721)\r\n",
      "\tat java.base/java.security.AccessController.doPrivileged(Native Method)\r\n",
      "\tat java.base/java.security.ProtectionDomain$JavaSecurityAccessImpl.doIntersectionPrivilege(ProtectionDomain.java:85)\r\n",
      "\tat java.base/java.security.ProtectionDomain$JavaSecurityAccessImpl.doIntersectionPrivilege(ProtectionDomain.java:95)\r\n",
      "\tat java.desktop/java.awt.EventQueue$5.run(EventQueue.java:751)\r\n",
      "\tat java.desktop/java.awt.EventQueue$5.run(EventQueue.java:749)\r\n",
      "\tat java.base/java.security.AccessController.doPrivileged(Native Method)\r\n",
      "\tat java.base/java.security.ProtectionDomain$JavaSecurityAccessImpl.doIntersectionPrivilege(ProtectionDomain.java:85)\r\n",
      "\tat java.desktop/java.awt.EventQueue.dispatchEvent(EventQueue.java:748)\r\n",
      "\tat com.intellij.ide.IdeEventQueue.defaultDispatchEvent(IdeEventQueue.java:971)\r\n",
      "\tat com.intellij.ide.IdeEventQueue.dispatchMouseEvent(IdeEventQueue.java:906)\r\n",
      "\tat com.intellij.ide.IdeEventQueue._dispatchEvent(IdeEventQueue.java:838)\r\n",
      "\tat com.intellij.ide.IdeEventQueue.lambda$dispatchEvent$8(IdeEventQueue.java:452)\r\n",
      "\tat com.intellij.openapi.progress.impl.CoreProgressManager.computePrioritized(CoreProgressManager.java:744)\r\n",
      "\tat com.intellij.ide.IdeEventQueue.lambda$dispatchEvent$9(IdeEventQueue.java:451)\r\n",
      "\tat com.intellij.openapi.application.impl.ApplicationImpl.runIntendedWriteActionOnCurrentThread(ApplicationImpl.java:802)\r\n",
      "\tat com.intellij.ide.IdeEventQueue.dispatchEvent(IdeEventQueue.java:505)\r\n",
      "\tat java.desktop/java.awt.EventDispatchThread.pumpOneEventForFilters(EventDispatchThread.java:203)\r\n",
      "\tat java.desktop/java.awt.EventDispatchThread.pumpEventsForFilter(EventDispatchThread.java:124)\r\n",
      "\tat java.desktop/java.awt.EventDispatchThread.pumpEventsForHierarchy(EventDispatchThread.java:113)\r\n",
      "\tat java.desktop/java.awt.EventDispatchThread.pumpEvents(EventDispatchThread.java:109)\r\n",
      "\tat java.desktop/java.awt.EventDispatchThread.pumpEvents(EventDispatchThread.java:101)\r\n",
      "\tat java.desktop/java.awt.EventDispatchThread.run(EventDispatchThread.java:90)\r\n"
     ]
    }
   ],
   "source": [
    "! phpstorm project"
   ]
  },
  {
   "cell_type": "markdown",
   "metadata": {},
   "source": [
    "You can test your solution using included tests:"
   ]
  },
  {
   "cell_type": "code",
   "execution_count": 4,
   "metadata": {},
   "outputs": [
    {
     "name": "stdout",
     "output_type": "stream",
     "text": [
      "/home/student/php_2020_witryna_do_prowadzenia_zajec/Witryna/project\n"
     ]
    }
   ],
   "source": [
    "%cd project"
   ]
  },
  {
   "cell_type": "code",
   "execution_count": 4,
   "metadata": {},
   "outputs": [
    {
     "name": "stdout",
     "output_type": "stream",
     "text": [
      "\u001b[32mLoading composer repositories with package information\u001b[39m\n",
      "\u001b[32mInstalling dependencies (including require-dev) from lock file\u001b[39m\n",
      "Nothing to install or update\n",
      "\u001b[32mGenerating optimized autoload files\u001b[39m\n",
      "> Illuminate\\Foundation\\ComposerScripts::postAutoloadDump\n",
      "> @php artisan package:discover --ansi\n",
      "Discovered Package: \u001b[32mfacade/ignition\u001b[39m\n",
      "Discovered Package: \u001b[32mfideloper/proxy\u001b[39m\n",
      "Discovered Package: \u001b[32mfruitcake/laravel-cors\u001b[39m\n",
      "Discovered Package: \u001b[32mgraham-campbell/markdown\u001b[39m\n",
      "Discovered Package: \u001b[32mlaravel/breeze\u001b[39m\n",
      "Discovered Package: \u001b[32mlaravel/sail\u001b[39m\n",
      "Discovered Package: \u001b[32mlaravel/tinker\u001b[39m\n",
      "Discovered Package: \u001b[32mnesbot/carbon\u001b[39m\n",
      "Discovered Package: \u001b[32mnunomaduro/collision\u001b[39m\n",
      "\u001b[32mPackage manifest generated successfully.\u001b[39m\n",
      "\u001b[32m79 packages you are using are looking for funding.\u001b[39m\n",
      "\u001b[32mUse the `composer fund` command to find out more!\u001b[39m\n"
     ]
    }
   ],
   "source": [
    "! composer install"
   ]
  },
  {
   "cell_type": "code",
   "execution_count": 5,
   "metadata": {},
   "outputs": [],
   "source": [
    "! cp .env.example .env"
   ]
  },
  {
   "cell_type": "code",
   "execution_count": 10,
   "metadata": {},
   "outputs": [
    {
     "name": "stdout",
     "output_type": "stream",
     "text": [
      "\u001b[32mApplication key set successfully.\u001b[39m\r\n"
     ]
    }
   ],
   "source": [
    "! php artisan key:generate"
   ]
  },
  {
   "cell_type": "code",
   "execution_count": 5,
   "metadata": {},
   "outputs": [
    {
     "name": "stdout",
     "output_type": "stream",
     "text": [
      "\u001b[32mDropped all tables successfully.\u001b[39m\n",
      "\u001b[32mMigration table created successfully.\u001b[39m\n",
      "\u001b[33mMigrating:\u001b[39m 2013_12_29_150139_create_roles_table\n",
      "\u001b[32mMigrated:\u001b[39m  2013_12_29_150139_create_roles_table (59.15ms)\n",
      "\u001b[33mMigrating:\u001b[39m 2014_10_12_000000_create_users_table\n",
      "\u001b[32mMigrated:\u001b[39m  2014_10_12_000000_create_users_table (162.89ms)\n",
      "\u001b[33mMigrating:\u001b[39m 2014_10_12_100000_create_password_resets_table\n",
      "\u001b[32mMigrated:\u001b[39m  2014_10_12_100000_create_password_resets_table (90.08ms)\n",
      "\u001b[33mMigrating:\u001b[39m 2019_08_19_000000_create_failed_jobs_table\n",
      "\u001b[32mMigrated:\u001b[39m  2019_08_19_000000_create_failed_jobs_table (179.81ms)\n",
      "\u001b[33mMigrating:\u001b[39m 2020_12_15_145710_create_comments_table\n",
      "\u001b[32mMigrated:\u001b[39m  2020_12_15_145710_create_comments_table (102.09ms)\n",
      "\u001b[33mMigrating:\u001b[39m 2020_12_29_162045_create_courses_table\n",
      "\u001b[32mMigrated:\u001b[39m  2020_12_29_162045_create_courses_table (57.20ms)\n",
      "\u001b[33mMigrating:\u001b[39m 2020_12_29_163258_create_course_user_table\n",
      "\u001b[32mMigrated:\u001b[39m  2020_12_29_163258_create_course_user_table (315.88ms)\n",
      "\u001b[33mMigrating:\u001b[39m 2020_12_29_164100_create_lessons_table\n",
      "\u001b[32mMigrated:\u001b[39m  2020_12_29_164100_create_lessons_table (191.77ms)\n",
      "\u001b[33mMigrating:\u001b[39m 2020_12_29_165136_create_lesson_times_table\n",
      "\u001b[32mMigrated:\u001b[39m  2020_12_29_165136_create_lesson_times_table (176.08ms)\n",
      "\u001b[33mMigrating:\u001b[39m 2020_12_29_165639_create_lesson_users_table\n",
      "\u001b[32mMigrated:\u001b[39m  2020_12_29_165639_create_lesson_users_table (219.75ms)\n"
     ]
    }
   ],
   "source": [
    "! php artisan migrate:fresh"
   ]
  },
  {
   "cell_type": "code",
   "execution_count": 6,
   "metadata": {},
   "outputs": [
    {
     "name": "stdout",
     "output_type": "stream",
     "text": [
      "\u001b[33mSeeding:\u001b[39m Database\\Seeders\\RoleSeeder\n",
      "\u001b[32mSeeded:\u001b[39m  Database\\Seeders\\RoleSeeder (36.12ms)\n",
      "\u001b[33mSeeding:\u001b[39m Database\\Seeders\\UserSeeder\n",
      "\u001b[32mSeeded:\u001b[39m  Database\\Seeders\\UserSeeder (449.94ms)\n",
      "\u001b[33mSeeding:\u001b[39m Database\\Seeders\\CourseSeeder\n",
      "\u001b[32mSeeded:\u001b[39m  Database\\Seeders\\CourseSeeder (26.84ms)\n",
      "\u001b[32mDatabase seeding completed successfully.\u001b[39m\n"
     ]
    }
   ],
   "source": [
    "! php artisan db:seed"
   ]
  },
  {
   "cell_type": "code",
   "execution_count": 13,
   "metadata": {},
   "outputs": [
    {
     "name": "stdout",
     "output_type": "stream",
     "text": [
      "mysqldump: [Warning] Using a password on the command line interface can be insecure.\r\n"
     ]
    }
   ],
   "source": [
    "! docker exec mysql mysqldump -u root --password=root123 test > tests_codeception/_data/dump.sql"
   ]
  },
  {
   "cell_type": "code",
   "execution_count": 10,
   "metadata": {},
   "outputs": [
    {
     "name": "stdout",
     "output_type": "stream",
     "text": [
      "PHPUnit 9.5.0 by Sebastian Bergmann and contributors.\n",
      "\n",
      ".................                                                 17 / 17 (100%)\n",
      "\n",
      "Time: 00:03.133, Memory: 36.00 MB\n",
      "\n",
      "\u001b[30;42mOK (17 tests, 27 assertions)\u001b[0m\n"
     ]
    }
   ],
   "source": [
    "! vendor/bin/phpunit"
   ]
  },
  {
   "cell_type": "code",
   "execution_count": 11,
   "metadata": {},
   "outputs": [],
   "source": [
    "import subprocess\n",
    "artisanServe = subprocess.Popen(['php', 'artisan', 'serve', '--port', '8888'])"
   ]
  },
  {
   "cell_type": "code",
   "execution_count": 12,
   "metadata": {},
   "outputs": [
    {
     "name": "stdout",
     "output_type": "stream",
     "text": [
      "Codeception PHP Testing Framework v4.1.12\n",
      "Powered by PHPUnit 9.5.0 by Sebastian Bergmann and contributors.\n",
      "Running with seed: \n",
      "\n",
      "\n",
      "\u001b[1mAcceptance Tests (6) \u001b[22m-----------------------------------------------------------\n",
      "\u001b[32;1m✔\u001b[39;22m \u001b[35;1m01_HomepageCept:\u001b[39;22m See Laravel links on homepage \u001b[32m(0.29s)\u001b[39m\n",
      "\u001b[32;1m✔\u001b[39;22m \u001b[35;1m02_CommentsCept:\u001b[39;22m See comments from DB displayed on page \u001b[32m(0.25s)\u001b[39m\n",
      "\u001b[32;1m✔\u001b[39;22m \u001b[35;1m03_LoginCept:\u001b[39;22m Login with existing user \u001b[32m(0.56s)\u001b[39m\n",
      "\u001b[32;1m✔\u001b[39;22m \u001b[35;1m04_DeanAccessCept:\u001b[39;22m Access dean's office employee to pages \u001b[32m(0.78s)\u001b[39m\n",
      "\u001b[32;1m✔\u001b[39;22m \u001b[35;1m05_StudentAccessCept:\u001b[39;22m Access dean's office employee to pages \u001b[32m(0.77s)\u001b[39m\n",
      "\u001b[32;1m✔\u001b[39;22m \u001b[35;1m06_LecturerAccessCept:\u001b[39;22m Access dean's office employee to pages \u001b[32m(0.88s)\u001b[39m\n",
      "--------------------------------------------------------------------------------\n",
      "\n",
      "\u001b[1mFunctional Tests (0) \u001b[22m-----------------------------------------------------------\n",
      "--------------------------------------------------------------------------------\n",
      "\n",
      "\u001b[1mUnit Tests (0) \u001b[22m-----------------------------------------------------------------\n",
      "--------------------------------------------------------------------------------\n",
      "\n",
      "\n",
      "Time: 00:09.670, Memory: 14.00 MB\n",
      "\n",
      "\u001b[30;42mOK (6 tests, 32 assertions)\u001b[0m\n"
     ]
    }
   ],
   "source": [
    "! vendor/bin/codecept run"
   ]
  },
  {
   "cell_type": "code",
   "execution_count": 13,
   "metadata": {},
   "outputs": [],
   "source": [
    "! killall php php7.4"
   ]
  },
  {
   "cell_type": "code",
   "execution_count": 14,
   "metadata": {},
   "outputs": [
    {
     "name": "stdout",
     "output_type": "stream",
     "text": [
      "/home/student/php_2020_witryna_do_prowadzenia_zajec/Witryna\n"
     ]
    }
   ],
   "source": [
    "%cd .."
   ]
  },
  {
   "cell_type": "markdown",
   "metadata": {},
   "source": [
    "Stop database:"
   ]
  },
  {
   "cell_type": "code",
   "execution_count": 16,
   "metadata": {},
   "outputs": [
    {
     "name": "stdout",
     "output_type": "stream",
     "text": [
      "mysql\r\n"
     ]
    }
   ],
   "source": [
    "! docker container stop mysql"
   ]
  },
  {
   "cell_type": "code",
   "execution_count": null,
   "metadata": {},
   "outputs": [],
   "source": []
  }
 ],
 "metadata": {
  "kernelspec": {
   "display_name": "Python 3",
   "language": "python",
   "name": "python3"
  },
  "language_info": {
   "codemirror_mode": {
    "name": "ipython",
    "version": 3
   },
   "file_extension": ".py",
   "mimetype": "text/x-python",
   "name": "python",
   "nbconvert_exporter": "python",
   "pygments_lexer": "ipython3",
   "version": "3.8.3"
  }
 },
 "nbformat": 4,
 "nbformat_minor": 4
}
